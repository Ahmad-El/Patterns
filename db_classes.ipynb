{
 "cells": [
  {
   "cell_type": "markdown",
   "metadata": {},
   "source": [
    "A data class is a class typically containing mainly data, although there aren’t really any restrictions. It is created using the new @dataclass decorator, as follows:"
   ]
  },
  {
   "cell_type": "code",
   "execution_count": 1,
   "metadata": {},
   "outputs": [
    {
     "name": "stdout",
     "output_type": "stream",
     "text": [
      "DataClassCard(rank='A', suit='is A')\n"
     ]
    }
   ],
   "source": [
    "from dataclasses import dataclass\n",
    "\n",
    "@dataclass\n",
    "class DataClassCard:\n",
    "    rank: str\n",
    "    suit: str\n",
    "\n",
    "obd = DataClassCard('A', 'is A')\n",
    "print(obd)\n"
   ]
  },
  {
   "cell_type": "code",
   "execution_count": 2,
   "metadata": {},
   "outputs": [
    {
     "data": {
      "text/plain": [
       "named_tuple_card(rank='Q', suit='hello')"
      ]
     },
     "execution_count": 2,
     "metadata": {},
     "output_type": "execute_result"
    }
   ],
   "source": [
    "from collections import namedtuple\n",
    "named_tuple_card = namedtuple('named_tuple_card', ['rank', 'suit'])\n",
    "obd = named_tuple_card('Q', 'hello')\n",
    "obd"
   ]
  },
  {
   "cell_type": "code",
   "execution_count": 4,
   "metadata": {},
   "outputs": [
    {
     "data": {
      "text/plain": [
       "True"
      ]
     },
     "execution_count": 4,
     "metadata": {},
     "output_type": "execute_result"
    }
   ],
   "source": [
    "obd == named_tuple_card('Q', 'hello') == ('Q', 'hello')"
   ]
  },
  {
   "cell_type": "code",
   "execution_count": 5,
   "metadata": {},
   "outputs": [
    {
     "data": {
      "text/plain": [
       "True"
      ]
     },
     "execution_count": 5,
     "metadata": {},
     "output_type": "execute_result"
    }
   ],
   "source": [
    "Person = namedtuple('Person', ['name', 'surname'])\n",
    "obP = Person('Q', 'hello')\n",
    "obP == obd"
   ]
  },
  {
   "cell_type": "code",
   "execution_count": 9,
   "metadata": {},
   "outputs": [
    {
     "data": {
      "text/plain": [
       "Position(name='Coordinates', lon=10.8, lat=59.9)"
      ]
     },
     "execution_count": 9,
     "metadata": {},
     "output_type": "execute_result"
    }
   ],
   "source": [
    "from dataclasses import dataclass\n",
    "\n",
    "@dataclass\n",
    "class Position:\n",
    "    name: str\n",
    "    lon: float\n",
    "    lat: float\n",
    "    \n",
    "    \n",
    "pos = Position('Coordinates', 10.8, 59.9)\n",
    "pos"
   ]
  },
  {
   "cell_type": "code",
   "execution_count": 10,
   "metadata": {},
   "outputs": [
    {
     "data": {
      "text/plain": [
       "Position2(name='Coordinates', lon=10.8, lat=59.9)"
      ]
     },
     "execution_count": 10,
     "metadata": {},
     "output_type": "execute_result"
    }
   ],
   "source": [
    "from dataclasses import make_dataclass\n",
    "\n",
    "Position2 = make_dataclass('Position2', ['name', 'lon', 'lat'])\n",
    "pos = Position2('Coordinates', 10.8, 59.9)\n",
    "pos\n"
   ]
  },
  {
   "cell_type": "markdown",
   "metadata": {},
   "source": [
    "Default Values\n"
   ]
  },
  {
   "cell_type": "code",
   "execution_count": 11,
   "metadata": {},
   "outputs": [
    {
     "data": {
      "text/plain": [
       "Position(name='Name', lon=9.2, lat=0.0)"
      ]
     },
     "execution_count": 11,
     "metadata": {},
     "output_type": "execute_result"
    }
   ],
   "source": [
    "from dataclasses import dataclass\n",
    "\n",
    "@dataclass\n",
    "class Position:\n",
    "    name: str\n",
    "    lon: float = 0.0\n",
    "    lat: float = 0.0\n",
    "    \n",
    "pos = Position(\"Name\", 9.2)\n",
    "pos"
   ]
  },
  {
   "cell_type": "code",
   "execution_count": 20,
   "metadata": {},
   "outputs": [
    {
     "data": {
      "text/plain": [
       "Chain(cards=[Node(value=30, color='red'), Node(value=6, color='red'), Node(value='9', color='black')])"
      ]
     },
     "execution_count": 20,
     "metadata": {},
     "output_type": "execute_result"
    }
   ],
   "source": [
    "from dataclasses import dataclass\n",
    "from typing import List\n",
    "\n",
    "@dataclass()\n",
    "class Node:\n",
    "    value: int\n",
    "    color: str\n",
    "\n",
    "@dataclass\n",
    "class Chain:\n",
    "    cards: List[Node]\n",
    "    \n",
    "n1 = Node(3, 'red')\n",
    "n1.value = 30\n",
    "n2 = Node(6, 'red')\n",
    "chain = Chain([n1, n2])\n",
    "chain.cards.append(Node('9', 'black'))\n",
    "chain"
   ]
  },
  {
   "cell_type": "code",
   "execution_count": 17,
   "metadata": {},
   "outputs": [
    {
     "data": {
      "text/plain": [
       "Chain(cards=[Node(value=3, color='red'), Node(value=6, color='red'), Node(value='9', color='black')])"
      ]
     },
     "execution_count": 17,
     "metadata": {},
     "output_type": "execute_result"
    }
   ],
   "source": [
    "from dataclasses import dataclass\n",
    "from typing import List\n",
    "\n",
    "@dataclass(frozen=True)\n",
    "class Node:\n",
    "    value: int\n",
    "    color: str\n",
    "\n",
    "@dataclass\n",
    "class Chain:\n",
    "    cards: List[Node]\n",
    "    \n",
    "n1 = Node(3, 'red')\n",
    "n2 = Node(6, 'red')\n",
    "chain = Chain([n1, n2])\n",
    "chain.cards.append(Node('9', 'black'))\n",
    "chain\n",
    "    "
   ]
  },
  {
   "cell_type": "code",
   "execution_count": 15,
   "metadata": {},
   "outputs": [
    {
     "data": {
      "text/plain": [
       "(['2', '3', '4', '5', '6', '7', '8', '9', '10', 'J', 'Q', 'K', 'A'],\n",
       " ['♣', '♢', '♡', '♠'])"
      ]
     },
     "execution_count": 15,
     "metadata": {},
     "output_type": "execute_result"
    }
   ],
   "source": [
    "RANKS = '2 3 4 5 6 7 8 9 10 J Q K A'.split()\n",
    "SUITS = '♣ ♢ ♡ ♠'.split()\n",
    "RANKS,SUITS"
   ]
  },
  {
   "cell_type": "code",
   "execution_count": 16,
   "metadata": {},
   "outputs": [
    {
     "data": {
      "text/plain": [
       "(Field(name='name',type=<class 'str'>,default=<dataclasses._MISSING_TYPE object at 0x10fa15dd0>,default_factory=<dataclasses._MISSING_TYPE object at 0x10fa15dd0>,init=True,repr=True,hash=None,compare=True,metadata=mappingproxy({}),kw_only=False,_field_type=_FIELD),\n",
       " Field(name='lon',type=<class 'float'>,default=0.0,default_factory=<dataclasses._MISSING_TYPE object at 0x10fa15dd0>,init=True,repr=True,hash=None,compare=True,metadata=mappingproxy({'unit': 'degrees'}),kw_only=False,_field_type=_FIELD),\n",
       " Field(name='lat',type=<class 'float'>,default=0.0,default_factory=<dataclasses._MISSING_TYPE object at 0x10fa15dd0>,init=True,repr=True,hash=None,compare=True,metadata=mappingproxy({'unit': 'degrees'}),kw_only=False,_field_type=_FIELD))"
      ]
     },
     "execution_count": 16,
     "metadata": {},
     "output_type": "execute_result"
    }
   ],
   "source": [
    "from dataclasses import dataclass, field, fields\n",
    "\n",
    "@dataclass\n",
    "class Position:\n",
    "    name: str\n",
    "    lon: float = field(default=0.0, metadata={'unit': 'degrees'})\n",
    "    lat: float = field(default=0.0, metadata={'unit': 'degrees'})\n",
    "    \n",
    "fields(Position)"
   ]
  }
 ],
 "metadata": {
  "kernelspec": {
   "display_name": ".venv",
   "language": "python",
   "name": "python3"
  },
  "language_info": {
   "codemirror_mode": {
    "name": "ipython",
    "version": 3
   },
   "file_extension": ".py",
   "mimetype": "text/x-python",
   "name": "python",
   "nbconvert_exporter": "python",
   "pygments_lexer": "ipython3",
   "version": "3.11.4"
  }
 },
 "nbformat": 4,
 "nbformat_minor": 2
}
